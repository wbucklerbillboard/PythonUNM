{
 "cells": [
  {
   "cell_type": "markdown",
   "metadata": {},
   "source": [
    "# Lab4 Geometric Objects\n",
    "----------------------------------"
   ]
  },
  {
   "cell_type": "markdown",
   "metadata": {},
   "source": [
    "## Task 1"
   ]
  },
  {
   "cell_type": "markdown",
   "metadata": {},
   "source": [
    "Use shapely to create points and access attributes and functions."
   ]
  },
  {
   "cell_type": "code",
   "execution_count": null,
   "metadata": {
    "collapsed": true
   },
   "outputs": [],
   "source": [
    "# Import necessary geometric objects from shapely module\n",
    "import shapely.geometry import Point\n",
    "# Create 3 point geometric objects with random coordinates\n",
    "# using Point()\n",
    "point1 = Point(2.2, 4.2)\n",
    "point2 = Point(7.2,-25.1)\n",
    "point3 = Point(9.26,-2.456)\n",
    "point3D = Point(9.26,-2.456, 0.57)\n",
    "print(point1)\n"
   ]
  },
  {
   "cell_type": "code",
   "execution_count": null,
   "metadata": {
    "collapsed": true
   },
   "outputs": [],
   "source": [
    "#create a list of all the x coordinates of the 3 points\n",
    "#hint, using .x\n",
    "xlist = [point1.x, point2.x, point3.x]\n",
    "xlist"
   ]
  },
  {
   "cell_type": "code",
   "execution_count": null,
   "metadata": {
    "collapsed": true
   },
   "outputs": [],
   "source": [
    "#calculate the distances between any two pairs of points\n",
    "#using distance() function.\n",
    "dist12 = point1.distance(point2)\n",
    "dist23 =\n",
    "dist31 ="
   ]
  },
  {
   "cell_type": "markdown",
   "metadata": {},
   "source": [
    "## Task 2"
   ]
  },
  {
   "cell_type": "markdown",
   "metadata": {},
   "source": [
    "Use shapely to create lines and access attributes and functions."
   ]
  },
  {
   "cell_type": "code",
   "execution_count": null,
   "metadata": {
    "collapsed": true
   },
   "outputs": [],
   "source": [
    "# Import necessary geometric objects from shapely module\n",
    "\n",
    "# Create a Z-shape LineString from use coordinate tuples\n",
    "# you can use any coordinates.\n",
    "line ="
   ]
  },
  {
   "cell_type": "code",
   "execution_count": null,
   "metadata": {
    "collapsed": true
   },
   "outputs": [],
   "source": [
    "# Get the y-coordiantes of the linestring using .xy[?]\n"
   ]
  },
  {
   "cell_type": "code",
   "execution_count": null,
   "metadata": {
    "collapsed": true
   },
   "outputs": [],
   "source": [
    "# Get the centroid and length of the line and print out.\n",
    "\n"
   ]
  },
  {
   "cell_type": "markdown",
   "metadata": {},
   "source": [
    "## Task 3"
   ]
  },
  {
   "cell_type": "markdown",
   "metadata": {},
   "source": [
    "Use shapely to create polygon and access attributes and functions."
   ]
  },
  {
   "cell_type": "code",
   "execution_count": null,
   "metadata": {
    "collapsed": true
   },
   "outputs": [],
   "source": [
    "# Import necessary geometric objects from shapely module\n",
    "\n",
    "# Create a Polygon poly1 from the coordinates \n",
    "# [(0, 0), (3, 0), (3, 3),(0, 3)]\n",
    "poly1 = "
   ]
  },
  {
   "cell_type": "code",
   "execution_count": null,
   "metadata": {
    "collapsed": true
   },
   "outputs": [],
   "source": [
    "# Create another Polygon poly2 from the coordinates \n",
    "# [(1, 1), (2, 1), (1.5, 2)]\n",
    "poly2 ="
   ]
  },
  {
   "cell_type": "code",
   "execution_count": null,
   "metadata": {
    "collapsed": true
   },
   "outputs": [],
   "source": [
    "# create a polygon poly3 using poly1 boundary as exterier boundary \n",
    "# and poly2 boundary as a hole\n",
    "poly3 = \n"
   ]
  },
  {
   "cell_type": "code",
   "execution_count": null,
   "metadata": {
    "collapsed": true
   },
   "outputs": [],
   "source": [
    "# Get the centroid and area of the poly3.\n",
    "# hint: .centroid, .area\n"
   ]
  },
  {
   "cell_type": "markdown",
   "metadata": {},
   "source": [
    "## Task 4"
   ]
  },
  {
   "cell_type": "markdown",
   "metadata": {},
   "source": [
    "Buffer geometries and union the results."
   ]
  },
  {
   "cell_type": "code",
   "execution_count": null,
   "metadata": {
    "collapsed": true
   },
   "outputs": [],
   "source": [
    "# Import necessary geometric objects from shapely module\n",
    "\n",
    "# Create a LineString from use coordinate tuples\n",
    "# [(2, 2), (4, 2), (2, 1), (4, 1)]\n",
    "line =\n",
    "# Create another Polygon from the coordinates \n",
    "# [(1, 1), (6, 1), (3, 5)] \n",
    "poly = "
   ]
  },
  {
   "cell_type": "code",
   "execution_count": null,
   "metadata": {
    "collapsed": true,
    "scrolled": true
   },
   "outputs": [],
   "source": [
    "# create a buffer with distance 0.5 around the linestring using .buffer()\n",
    "buffer1 = "
   ]
  },
  {
   "cell_type": "code",
   "execution_count": null,
   "metadata": {
    "collapsed": true
   },
   "outputs": [],
   "source": [
    "# create a buffer with distance -0.3 around the polygon using .buffer()\n",
    "buffer2 = "
   ]
  },
  {
   "cell_type": "code",
   "execution_count": null,
   "metadata": {
    "collapsed": true,
    "scrolled": false
   },
   "outputs": [],
   "source": [
    "# union the two buffers into one geometry using\n",
    "# shapely.ops.cascaded_union([geoms])\n"
   ]
  },
  {
   "cell_type": "code",
   "execution_count": null,
   "metadata": {
    "collapsed": true
   },
   "outputs": [],
   "source": []
  }
 ],
 "metadata": {
  "kernelspec": {
   "display_name": "Python 2",
   "language": "python",
   "name": "python2"
  },
  "language_info": {
   "codemirror_mode": {
    "name": "ipython",
    "version": 2
   },
   "file_extension": ".py",
   "mimetype": "text/x-python",
   "name": "python",
   "nbconvert_exporter": "python",
   "pygments_lexer": "ipython2",
   "version": "2.7.14"
  },
  "toc": {
   "nav_menu": {},
   "number_sections": false,
   "sideBar": false,
   "skip_h1_title": true,
   "toc_cell": false,
   "toc_position": {
    "height": "326px",
    "left": "791px",
    "right": "20px",
    "top": "110.5px",
    "width": "144px"
   },
   "toc_section_display": "none",
   "toc_window_display": true
  }
 },
 "nbformat": 4,
 "nbformat_minor": 2
}
