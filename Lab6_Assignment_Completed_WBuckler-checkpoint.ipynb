{
 "cells": [
  {
   "cell_type": "markdown",
   "metadata": {},
   "source": [
    "# Lab6 Vector Analysis I\n",
    "----------------------------------"
   ]
  },
  {
   "cell_type": "markdown",
   "metadata": {},
   "source": [
    "# HOMEWORK ASSIGNMENT"
   ]
  },
  {
   "cell_type": "markdown",
   "metadata": {},
   "source": [
    "**Answer the following questions in the jupyter notebook file. (You can also use other IDEs to test your code) **"
   ]
  },
  {
   "cell_type": "markdown",
   "metadata": {},
   "source": [
    "## 1. Tutorial 1 (30 points)"
   ]
  },
  {
   "cell_type": "markdown",
   "metadata": {},
   "source": [
    "Follow the __tutorial__ at http://net-analysis.com/blog/category/geopandas.html to map data using geopandas. \n",
    "\n",
    "You can start from \"Introduction\" and stop before \"Sliding maps\" section.\n",
    "\n",
    "Retype the code from the tutorial in this notebook and produce the final map in this notebook."
   ]
  },
  {
   "cell_type": "markdown",
   "metadata": {},
   "source": [
    "## 2. Selecting data (30 points)"
   ]
  },
  {
   "cell_type": "markdown",
   "metadata": {},
   "source": [
    "Selecting data and plot."
   ]
  },
  {
   "cell_type": "code",
   "execution_count": null,
   "metadata": {
    "collapsed": true,
    "scrolled": false
   },
   "outputs": [],
   "source": [
    "%matplotlib inline\n",
    "# Import geopandas module\n",
    "\n",
    "# Read build-in dataset world ('naturalearth_lowres') and cities('naturalearth_cities') using gpd.read_file()\n",
    "# hint: Check slides and tasks for detail \n",
    "world = \n",
    "cities = "
   ]
  },
  {
   "cell_type": "code",
   "execution_count": null,
   "metadata": {
    "collapsed": true,
    "scrolled": false
   },
   "outputs": [],
   "source": [
    "#Get the data based on coordinates range \n",
    "#Get countries and cities in the northern world \n",
    "#using .cx by providing a bounding box.\n",
    "#Hint: Task 2 and http://geopandas.org/indexing.html\n",
    "world_n = \n",
    "cities_n = "
   ]
  },
  {
   "cell_type": "code",
   "execution_count": 1,
   "metadata": {
    "collapsed": true,
    "scrolled": false
   },
   "outputs": [],
   "source": [
    "#Then plot the data (cities and countries) on to the same map.\n",
    "#Hint: Task 3\n",
    "\n"
   ]
  },
  {
   "cell_type": "markdown",
   "metadata": {},
   "source": [
    "## 4. How many crimes happened within 5 km from shopping centers? (40 points)"
   ]
  },
  {
   "cell_type": "markdown",
   "metadata": {},
   "source": [
    "This question is based on question 5 of lab5.\n",
    "\n",
    "Last week, we calculate a 5 km buffer around the shoping centers and save it as a shopping_centers_5kmbuffer.shp.\n",
    "\n",
    "Today we are going to make a spatial join between our point-buffer layer and the crime points layer to find how many crimes happened within 5 km from shopping centers?\n",
    "\n"
   ]
  },
  {
   "cell_type": "code",
   "execution_count": null,
   "metadata": {
    "collapsed": true
   },
   "outputs": [],
   "source": [
    "# Import necessary modules\n"
   ]
  },
  {
   "cell_type": "code",
   "execution_count": null,
   "metadata": {
    "collapsed": true
   },
   "outputs": [],
   "source": [
    "# read the shopping_centers_5kmbuffer.shp and SAPDCrimes_Jan05.shp \n",
    "# in data folder using gpd.readfile()\n",
    "shpctrs = \n",
    "crime = "
   ]
  },
  {
   "cell_type": "code",
   "execution_count": null,
   "metadata": {
    "collapsed": true
   },
   "outputs": [],
   "source": [
    "#clear unnecessary colunms\n",
    "selected_cols = ['CASE_','LOCATION', 'HR','DOW','geometry']\n",
    "crime = crime[selected_cols]\n",
    "crime.head()"
   ]
  },
  {
   "cell_type": "code",
   "execution_count": null,
   "metadata": {
    "collapsed": true
   },
   "outputs": [],
   "source": [
    "shpctrs.crs=crime.crs\n",
    "#display the two dataset in one figure for general view. Hint: task3 \n",
    "%matplotlib inline\n",
    "\n"
   ]
  },
  {
   "cell_type": "code",
   "execution_count": null,
   "metadata": {
    "collapsed": true
   },
   "outputs": [],
   "source": [
    "# Make a spatial join between your buffered point layer and crime layer\n",
    "## Note: Join the information now from buffer layer into the crime layer\n",
    "# So in the output, each crime will have the corresponding shopping center information\n",
    "# hint: use gpd.sjoin(left_df, right_df, how='?', op='?')\n",
    "crime_with_shpctr = "
   ]
  },
  {
   "cell_type": "code",
   "execution_count": null,
   "metadata": {
    "collapsed": true,
    "scrolled": false
   },
   "outputs": [],
   "source": [
    "# Calculate and display the number of crimes within 5 km for each shopping center\n",
    "# you can choose one of the following methods\n",
    "# 1:\n",
    "# use .value_counts() function, e.g. df1['column1'].value_counts()\n",
    "# 2:\n",
    "# use .groupyby() fucntion. first group by name, then iterate over the grouped \n",
    "# result to print information for each shopping mall.\n"
   ]
  }
 ],
 "metadata": {
  "kernelspec": {
   "display_name": "Python 2",
   "language": "python",
   "name": "python2"
  },
  "language_info": {
   "codemirror_mode": {
    "name": "ipython",
    "version": 2
   },
   "file_extension": ".py",
   "mimetype": "text/x-python",
   "name": "python",
   "nbconvert_exporter": "python",
   "pygments_lexer": "ipython2",
   "version": "2.7.14"
  },
  "toc": {
   "nav_menu": {},
   "number_sections": false,
   "sideBar": false,
   "skip_h1_title": true,
   "title_cell": "Table of Contents",
   "title_sidebar": "Contents",
   "toc_cell": false,
   "toc_position": {
    "height": "275px",
    "left": "561px",
    "right": "20px",
    "top": "144px",
    "width": "354px"
   },
   "toc_section_display": false,
   "toc_window_display": false
  }
 },
 "nbformat": 4,
 "nbformat_minor": 2
}
