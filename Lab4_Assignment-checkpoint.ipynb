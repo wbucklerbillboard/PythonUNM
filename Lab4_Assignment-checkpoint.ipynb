{
 "cells": [
  {
   "cell_type": "markdown",
   "metadata": {},
   "source": [
    "# Lab4 Spatial Data Model\n",
    "----------------------------------"
   ]
  },
  {
   "cell_type": "markdown",
   "metadata": {},
   "source": [
    "# HOMEWORK ASSIGNMENT"
   ]
  },
  {
   "cell_type": "markdown",
   "metadata": {},
   "source": [
    "**Answer the following questions in the jupyter notebook file. (You can also use other IDEs to test your code) **"
   ]
  },
  {
   "cell_type": "markdown",
   "metadata": {},
   "source": [
    "## 1. Finish the tutorial (30 points)"
   ]
  },
  {
   "cell_type": "markdown",
   "metadata": {},
   "source": [
    "Read the __tutorial \"The Shapely User Manual\"__ at https://shapely.readthedocs.io/en/latest/manual.html#the-shapely-user-manual.\n",
    "You will review the concepts learnt in the lecture and learn more about shapely documents.\n",
    "\n",
    "Practice some of the examples in your python IDE.\n",
    "\n",
    "Investigate and implement 4 different operations from spatial-analysis-methods https://shapely.readthedocs.io/en/latest/manual.html#spatial-analysis-methods and other operations https://shapely.readthedocs.io/en/latest/manual.html#other-operations. \n",
    "\n",
    "e.g."
   ]
  },
  {
   "cell_type": "code",
   "execution_count": 1,
   "metadata": {},
   "outputs": [
    {
     "data": {
      "image/svg+xml": [
       "<svg xmlns=\"http://www.w3.org/2000/svg\" xmlns:xlink=\"http://www.w3.org/1999/xlink\" width=\"100.0\" height=\"100.0\" viewBox=\"-0.62 -0.62 2.24 3.24\" preserveAspectRatio=\"xMinYMin meet\"><g transform=\"matrix(1,0,0,-1,0,2.0)\"><path fill-rule=\"evenodd\" fill=\"#66cc99\" stroke=\"#555555\" stroke-width=\"0.0648\" opacity=\"0.6\" d=\"M 1.5,-0.412305920438 L 1.43542701588,-0.435410503598 L 1.29263548302,-0.471177920605 L 1.14702571049,-0.492777090008 L 1.0,-0.5 L 0.852974289506,-0.492777090008 L 0.707364516976,-0.471177920605 L 0.564572984118,-0.435410503598 L 0.425974851452,-0.385819298767 L 0.292904894761,-0.322881896523 L 0.166644650471,-0.247204418454 L 0.0484100737545,-0.159515680044 L -0.0606601717798,-0.0606601717798 L -0.159515680044,0.0484100737545 L -0.247204418454,0.166644650471 L -0.322881896523,0.292904894761 L -0.385819298767,0.425974851452 L -0.435410503598,0.564572984118 L -0.471177920605,0.707364516976 L -0.492777090008,0.852974289506 L -0.5,1.0 L -0.492777090008,1.14702571049 L -0.471177920605,1.29263548302 L -0.435410503598,1.43542701588 L -0.385819298767,1.57402514855 L -0.322881896523,1.70709510524 L -0.247204418454,1.83335534953 L -0.159515680044,1.95158992625 L -0.0606601717798,2.06066017178 L 0.0484100737545,2.15951568004 L 0.166644650471,2.24720441845 L 0.292904894761,2.32288189652 L 0.425974851452,2.38581929877 L 0.564572984118,2.4354105036 L 0.707364516976,2.4711779206 L 0.852974289506,2.49277709001 L 1.0,2.5 L 1.14702571049,2.49277709001 L 1.29263548302,2.4711779206 L 1.43542701588,2.4354105036 L 1.5,2.41230592044 L 1.42597485145,2.38581929877 L 1.29290489476,2.32288189652 L 1.16664465047,2.24720441845 L 1.04841007375,2.15951568004 L 0.93933982822,2.06066017178 L 0.840484319956,1.95158992625 L 0.752795581546,1.83335534953 L 0.677118103477,1.70709510524 L 0.614180701233,1.57402514855 L 0.564589496402,1.43542701588 L 0.528822079395,1.29263548302 L 0.507222909992,1.14702571049 L 0.5,1.0 L 0.507222909992,0.852974289506 L 0.528822079395,0.707364516976 L 0.564589496402,0.564572984118 L 0.614180701233,0.425974851452 L 0.677118103477,0.292904894761 L 0.752795581546,0.166644650471 L 0.840484319956,0.0484100737545 L 0.93933982822,-0.0606601717798 L 1.04841007375,-0.159515680044 L 1.16664465047,-0.247204418454 L 1.29290489476,-0.322881896523 L 1.42597485145,-0.385819298767 L 1.5,-0.412305920438 z\" /></g></svg>"
      ],
      "text/plain": [
       "<shapely.geometry.polygon.Polygon at 0x61d83f0>"
      ]
     },
     "execution_count": 1,
     "metadata": {},
     "output_type": "execute_result"
    }
   ],
   "source": [
    "from shapely.geometry import Point, LineString, Polygon\n",
    "a = Point(1, 1).buffer(1.5)\n",
    "b = Point(2, 1).buffer(1.5)\n",
    "a.difference(b)"
   ]
  },
  {
   "cell_type": "code",
   "execution_count": null,
   "metadata": {
    "collapsed": true
   },
   "outputs": [],
   "source": [
    "#1"
   ]
  },
  {
   "cell_type": "code",
   "execution_count": null,
   "metadata": {
    "collapsed": true
   },
   "outputs": [],
   "source": [
    "#2"
   ]
  },
  {
   "cell_type": "code",
   "execution_count": null,
   "metadata": {
    "collapsed": true
   },
   "outputs": [],
   "source": [
    "#3"
   ]
  },
  {
   "cell_type": "code",
   "execution_count": null,
   "metadata": {
    "collapsed": true
   },
   "outputs": [],
   "source": [
    "#4"
   ]
  },
  {
   "cell_type": "code",
   "execution_count": null,
   "metadata": {
    "collapsed": true
   },
   "outputs": [],
   "source": []
  },
  {
   "cell_type": "markdown",
   "metadata": {},
   "source": [
    "## 2. Creating basic geometries (20 points)"
   ]
  },
  {
   "cell_type": "markdown",
   "metadata": {},
   "source": [
    "Design functions for creating geometries.\n",
    "\n",
    "Create a function called createPointList() that has two parameters (x_coord_list, y_coord_list). Function should create a list shapely Point geometry object and return that list. \n",
    "\n",
    "Demonstrate the usage of the function by creating a list of Point -objects with the function using input [1,2,3,4], [5,6,7,8]."
   ]
  },
  {
   "cell_type": "code",
   "execution_count": 14,
   "metadata": {
    "collapsed": true
   },
   "outputs": [],
   "source": [
    "# Import necessary geometric objects from shapely module\n",
    "\n",
    "# define a function that takes two list of numbers to create point list\n",
    "def createPointList(x_coord_list, y_coord_list):\n",
    "    # create a list shapely Point geometry object\n",
    "   \n",
    "\n",
    "    # return that list\n",
    "    "
   ]
  },
  {
   "cell_type": "code",
   "execution_count": null,
   "metadata": {
    "collapsed": true,
    "scrolled": true
   },
   "outputs": [],
   "source": [
    "#call the function to test \n",
    "pointList = createPointList([1,2,3,4], [5,6,7,8])\n",
    "for p in pointList:\n",
    "    print p"
   ]
  },
  {
   "cell_type": "markdown",
   "metadata": {},
   "source": [
    "## 3. Reading coordinates from a file and creating a geometries (30 points)"
   ]
  },
  {
   "cell_type": "markdown",
   "metadata": {},
   "source": [
    "One of the \"classical\" problems in GIS is the situation where you have a set of coordinates in a file and you need to get them into a map (or into a GIS-software). Python is a really handy tool to solve this problem as with Python it is basically possible to read data from any kind of input datafile (such as csv-, txt-, excel-, or gpx-files (gps data) or from different databases). So far, I haven't faced any kind of data or file that would be impossible to read with Python.\n",
    "\n",
    "Thus, let's see how we can read data from a file and create Point -objects from them that can be saved e.g. as a new Shapefile (we will learn this next week). Our dataset travelTimes_2015_Helsinki.txt consist of travel times between specific locations in Helsinki Region. The first four rows of our data looks like this:\n",
    "\n",
    ">from_id;to_id;fromid_toid;route_number;at;from_x;from_y;to_x;to_y;total_route_time;route_time;route_distance;route_total_lines\n",
    "   5861326;5785640;5861326_5785640;1;08:10;24.9704379;60.3119173;24.8560344;60.399940599999994;125.0;99.0;22917.6;2.0\n",
    "   5861326;5785641;5861326_5785641;1;08:10;24.9704379;60.3119173;24.8605682;60.4000135;123.0;102.0;23123.5;2.0\n",
    "   5861326;5785642;5861326_5785642;1;08:10;24.9704379;60.3119173;24.865102;60.4000863;125.0;103.0;23241.3;2.0\n",
    "\n",
    "Thus, we have many columns of data, but the few important ones are:\n",
    "\n",
    "|Column\t|Description  |\n",
    "|-------|-------------|\n",
    "|from_x\t|x-coordinate of the origin location (longitude)|\n",
    "|from_y\t|y-coordinate of the origin location (latitude) |\n",
    "|to_x\t|x-coordinate of the destination location (longitude)|\n",
    "|to_y\t|y-coordinate of the destination location (latitude)|\n",
    "|total_route_time\t|Travel time with public transportation at the route|\n",
    "\n",
    "\n"
   ]
  },
  {
   "cell_type": "code",
   "execution_count": null,
   "metadata": {
    "collapsed": true
   },
   "outputs": [],
   "source": [
    "# Import necessary geometric objects from shapely module\n",
    "\n",
    "# import pandas\n"
   ]
  },
  {
   "cell_type": "code",
   "execution_count": null,
   "metadata": {
    "collapsed": true
   },
   "outputs": [],
   "source": [
    "# read the file travelTimes_2015_Helsinki.txt using pd.read_csv(), \n",
    "# the seperator parameter use sep = ';', hint, check the syntax of pd.read_csv()\n",
    "df = \n",
    "# Only keep the 4 columns('from_x', 'from_y', 'to_x', 'to_y') in a new dataframe\n",
    "df4 ="
   ]
  },
  {
   "cell_type": "code",
   "execution_count": null,
   "metadata": {
    "collapsed": true
   },
   "outputs": [],
   "source": [
    "# Create two empty lists called orig_points and dest_points\n",
    "\n"
   ]
  },
  {
   "cell_type": "code",
   "execution_count": null,
   "metadata": {
    "collapsed": true
   },
   "outputs": [],
   "source": [
    "# Iterate over the rows of your DataFrame using \n",
    "# \"for index, row in DataFrame.iterrows():\"\n",
    "\n",
    "    # create two Shapely Point -objects based on the row data, add \n",
    "    # the two points into the orig_points -list and dest_point -list \n",
    "    # representing the origin locations and destination locations accordingly.\n",
    "    \n",
    "    "
   ]
  },
  {
   "cell_type": "markdown",
   "metadata": {},
   "source": [
    "## 4. Creating LineStrings that represent the movements (20 points) "
   ]
  },
  {
   "cell_type": "markdown",
   "metadata": {},
   "source": [
    "Continue the code from question 3. Creating LineStrings that represent the movements"
   ]
  },
  {
   "cell_type": "code",
   "execution_count": null,
   "metadata": {
    "collapsed": true
   },
   "outputs": [],
   "source": [
    "# Create an empty list called lines\n"
   ]
  },
  {
   "cell_type": "code",
   "execution_count": null,
   "metadata": {
    "collapsed": true
   },
   "outputs": [],
   "source": [
    "# Iterate over the origin and destination lists using \"for i in ???:\"\n",
    "\n",
    "    # create a Shapely LineString -object between the origin and destination point\n",
    "    \n",
    "    # Add that line into the lines -list.\n",
    "        "
   ]
  },
  {
   "cell_type": "code",
   "execution_count": null,
   "metadata": {
    "collapsed": true,
    "scrolled": true
   },
   "outputs": [],
   "source": [
    "# Find out what is the average (Euclidian) distance of all the origin-destination\n",
    "# LineStrings that we just created, and print it out.\n",
    "\n",
    "\n"
   ]
  }
 ],
 "metadata": {
  "kernelspec": {
   "display_name": "Python 2",
   "language": "python",
   "name": "python2"
  },
  "language_info": {
   "codemirror_mode": {
    "name": "ipython",
    "version": 2
   },
   "file_extension": ".py",
   "mimetype": "text/x-python",
   "name": "python",
   "nbconvert_exporter": "python",
   "pygments_lexer": "ipython2",
   "version": "2.7.14"
  },
  "toc": {
   "nav_menu": {},
   "number_sections": false,
   "sideBar": false,
   "skip_h1_title": true,
   "toc_cell": false,
   "toc_position": {
    "height": "204px",
    "left": "561px",
    "right": "20px",
    "top": "144px",
    "width": "363px"
   },
   "toc_section_display": "none",
   "toc_window_display": true
  }
 },
 "nbformat": 4,
 "nbformat_minor": 2
}
